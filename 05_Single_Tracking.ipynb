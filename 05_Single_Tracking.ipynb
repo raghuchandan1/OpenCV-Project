{
 "cells": [
  {
   "cell_type": "markdown",
   "metadata": {},
   "source": [
    "### Import Libraries"
   ]
  },
  {
   "cell_type": "code",
   "execution_count": null,
   "metadata": {},
   "outputs": [],
   "source": []
  },
  {
   "cell_type": "markdown",
   "metadata": {},
   "source": [
    "### Define our tracker"
   ]
  },
  {
   "cell_type": "code",
   "execution_count": null,
   "metadata": {},
   "outputs": [],
   "source": []
  },
  {
   "cell_type": "markdown",
   "metadata": {},
   "source": [
    "### It's a Kind of Magic"
   ]
  },
  {
   "cell_type": "code",
   "execution_count": null,
   "metadata": {},
   "outputs": [],
   "source": [
    "# Tracker\n",
    "\n",
    "\n",
    "# Tracker name\n",
    "\n",
    "\n",
    "# Capture the Video\n",
    "\n",
    "\n",
    "# Read the first frame\n",
    "\n",
    "\n",
    "# Select our ROI\n",
    "\n",
    "\n",
    "# Initialize tracker\n",
    "\n",
    "\n",
    "\n",
    "# while Loop\n",
    "\n",
    "\n",
    "    # Read the capture\n",
    "    \n",
    "    \n",
    "    # update tracker\n",
    "    \n",
    "    \n",
    "    # roi -> from tuple to int\n",
    "    \n",
    "    \n",
    "    # Draw rects as tracker moves\n",
    "    \n",
    "        \n",
    "        # Sucess on tracking\n",
    "        \n",
    "        \n",
    "    # else\n",
    "    \n",
    "    \n",
    "        # Failure on tracking\n",
    "        \n",
    "        \n",
    "    # Display Tracker\n",
    "    \n",
    "    \n",
    "    # Display result\n",
    "        \n",
    "        \n",
    "    # Exit with Esc button\n",
    "        \n",
    "    \n",
    "    \n",
    "# Release the Capture & Destroy All Windows\n",
    "\n",
    "\n",
    "\n"
   ]
  },
  {
   "cell_type": "code",
   "execution_count": null,
   "metadata": {},
   "outputs": [],
   "source": []
  }
 ],
 "metadata": {
  "kernelspec": {
   "display_name": "Python 3",
   "language": "python",
   "name": "python3"
  },
  "language_info": {
   "codemirror_mode": {
    "name": "ipython",
    "version": 3
   },
   "file_extension": ".py",
   "mimetype": "text/x-python",
   "name": "python",
   "nbconvert_exporter": "python",
   "pygments_lexer": "ipython3",
   "version": "3.7.4"
  }
 },
 "nbformat": 4,
 "nbformat_minor": 2
}
